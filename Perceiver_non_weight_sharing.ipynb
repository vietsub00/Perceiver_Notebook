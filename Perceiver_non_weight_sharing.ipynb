{
  "cells": [
    {
      "cell_type": "markdown",
      "metadata": {
        "id": "view-in-github",
        "colab_type": "text"
      },
      "source": [
        "<a href=\"https://colab.research.google.com/github/vietsub00/Perceiver_Notebook/blob/main/Perceiver_non_weight_sharing.ipynb\" target=\"_parent\"><img src=\"https://colab.research.google.com/assets/colab-badge.svg\" alt=\"Open In Colab\"/></a>"
      ]
    },
    {
      "cell_type": "code",
      "execution_count": 1,
      "metadata": {
        "colab": {
          "base_uri": "https://localhost:8080/"
        },
        "id": "_z8io-gQOgy4",
        "outputId": "b34f0009-8af2-4048-9b6a-ec3eb5ade93f"
      },
      "outputs": [
        {
          "output_type": "stream",
          "name": "stdout",
          "text": [
            "\u001b[K     |████████████████████████████████| 1.1 MB 4.7 MB/s \n",
            "\u001b[K     |████████████████████████████████| 948 kB 4.7 MB/s \n",
            "\u001b[31mERROR: pip's dependency resolver does not currently take into account all the packages that are installed. This behaviour is the source of the following dependency conflicts.\n",
            "albumentations 0.1.12 requires imgaug<0.2.7,>=0.2.5, but you have imgaug 0.4.0 which is incompatible.\u001b[0m\n",
            "\u001b[K     |████████████████████████████████| 1.8 MB 5.2 MB/s \n",
            "\u001b[K     |████████████████████████████████| 90 kB 9.1 MB/s \n",
            "\u001b[K     |████████████████████████████████| 213 kB 56.6 MB/s \n",
            "\u001b[K     |████████████████████████████████| 47.7 MB 1.3 MB/s \n",
            "\u001b[K     |████████████████████████████████| 352 kB 58.8 MB/s \n",
            "\u001b[K     |████████████████████████████████| 99 kB 8.6 MB/s \n",
            "\u001b[K     |████████████████████████████████| 4.9 MB 43.8 MB/s \n",
            "\u001b[K     |████████████████████████████████| 596 kB 45.8 MB/s \n",
            "\u001b[K     |████████████████████████████████| 1.2 MB 46.8 MB/s \n",
            "\u001b[K     |████████████████████████████████| 43 kB 1.9 MB/s \n",
            "\u001b[?25h  Building wheel for py-cpuinfo (setup.py) ... \u001b[?25l\u001b[?25hdone\n",
            "  Building wheel for seqeval (setup.py) ... \u001b[?25l\u001b[?25hdone\n",
            "INFO:tensorflow:Deallocate tpu buffers before initializing tpu system.\n"
          ]
        },
        {
          "output_type": "stream",
          "name": "stderr",
          "text": [
            "INFO:tensorflow:Deallocate tpu buffers before initializing tpu system.\n"
          ]
        },
        {
          "output_type": "stream",
          "name": "stdout",
          "text": [
            "INFO:tensorflow:Initializing the TPU system: grpc://10.46.72.202:8470\n"
          ]
        },
        {
          "output_type": "stream",
          "name": "stderr",
          "text": [
            "INFO:tensorflow:Initializing the TPU system: grpc://10.46.72.202:8470\n"
          ]
        },
        {
          "output_type": "stream",
          "name": "stdout",
          "text": [
            "INFO:tensorflow:Finished initializing TPU system.\n"
          ]
        },
        {
          "output_type": "stream",
          "name": "stderr",
          "text": [
            "INFO:tensorflow:Finished initializing TPU system.\n"
          ]
        },
        {
          "output_type": "stream",
          "name": "stdout",
          "text": [
            "INFO:tensorflow:Found TPU system:\n"
          ]
        },
        {
          "output_type": "stream",
          "name": "stderr",
          "text": [
            "INFO:tensorflow:Found TPU system:\n"
          ]
        },
        {
          "output_type": "stream",
          "name": "stdout",
          "text": [
            "INFO:tensorflow:*** Num TPU Cores: 8\n"
          ]
        },
        {
          "output_type": "stream",
          "name": "stderr",
          "text": [
            "INFO:tensorflow:*** Num TPU Cores: 8\n"
          ]
        },
        {
          "output_type": "stream",
          "name": "stdout",
          "text": [
            "INFO:tensorflow:*** Num TPU Workers: 1\n"
          ]
        },
        {
          "output_type": "stream",
          "name": "stderr",
          "text": [
            "INFO:tensorflow:*** Num TPU Workers: 1\n"
          ]
        },
        {
          "output_type": "stream",
          "name": "stdout",
          "text": [
            "INFO:tensorflow:*** Num TPU Cores Per Worker: 8\n"
          ]
        },
        {
          "output_type": "stream",
          "name": "stderr",
          "text": [
            "INFO:tensorflow:*** Num TPU Cores Per Worker: 8\n"
          ]
        },
        {
          "output_type": "stream",
          "name": "stdout",
          "text": [
            "INFO:tensorflow:*** Available Device: _DeviceAttributes(/job:localhost/replica:0/task:0/device:CPU:0, CPU, 0, 0)\n"
          ]
        },
        {
          "output_type": "stream",
          "name": "stderr",
          "text": [
            "INFO:tensorflow:*** Available Device: _DeviceAttributes(/job:localhost/replica:0/task:0/device:CPU:0, CPU, 0, 0)\n"
          ]
        },
        {
          "output_type": "stream",
          "name": "stdout",
          "text": [
            "INFO:tensorflow:*** Available Device: _DeviceAttributes(/job:worker/replica:0/task:0/device:CPU:0, CPU, 0, 0)\n"
          ]
        },
        {
          "output_type": "stream",
          "name": "stderr",
          "text": [
            "INFO:tensorflow:*** Available Device: _DeviceAttributes(/job:worker/replica:0/task:0/device:CPU:0, CPU, 0, 0)\n"
          ]
        },
        {
          "output_type": "stream",
          "name": "stdout",
          "text": [
            "INFO:tensorflow:*** Available Device: _DeviceAttributes(/job:worker/replica:0/task:0/device:TPU:0, TPU, 0, 0)\n"
          ]
        },
        {
          "output_type": "stream",
          "name": "stderr",
          "text": [
            "INFO:tensorflow:*** Available Device: _DeviceAttributes(/job:worker/replica:0/task:0/device:TPU:0, TPU, 0, 0)\n"
          ]
        },
        {
          "output_type": "stream",
          "name": "stdout",
          "text": [
            "INFO:tensorflow:*** Available Device: _DeviceAttributes(/job:worker/replica:0/task:0/device:TPU:1, TPU, 0, 0)\n"
          ]
        },
        {
          "output_type": "stream",
          "name": "stderr",
          "text": [
            "INFO:tensorflow:*** Available Device: _DeviceAttributes(/job:worker/replica:0/task:0/device:TPU:1, TPU, 0, 0)\n"
          ]
        },
        {
          "output_type": "stream",
          "name": "stdout",
          "text": [
            "INFO:tensorflow:*** Available Device: _DeviceAttributes(/job:worker/replica:0/task:0/device:TPU:2, TPU, 0, 0)\n"
          ]
        },
        {
          "output_type": "stream",
          "name": "stderr",
          "text": [
            "INFO:tensorflow:*** Available Device: _DeviceAttributes(/job:worker/replica:0/task:0/device:TPU:2, TPU, 0, 0)\n"
          ]
        },
        {
          "output_type": "stream",
          "name": "stdout",
          "text": [
            "INFO:tensorflow:*** Available Device: _DeviceAttributes(/job:worker/replica:0/task:0/device:TPU:3, TPU, 0, 0)\n"
          ]
        },
        {
          "output_type": "stream",
          "name": "stderr",
          "text": [
            "INFO:tensorflow:*** Available Device: _DeviceAttributes(/job:worker/replica:0/task:0/device:TPU:3, TPU, 0, 0)\n"
          ]
        },
        {
          "output_type": "stream",
          "name": "stdout",
          "text": [
            "INFO:tensorflow:*** Available Device: _DeviceAttributes(/job:worker/replica:0/task:0/device:TPU:4, TPU, 0, 0)\n"
          ]
        },
        {
          "output_type": "stream",
          "name": "stderr",
          "text": [
            "INFO:tensorflow:*** Available Device: _DeviceAttributes(/job:worker/replica:0/task:0/device:TPU:4, TPU, 0, 0)\n"
          ]
        },
        {
          "output_type": "stream",
          "name": "stdout",
          "text": [
            "INFO:tensorflow:*** Available Device: _DeviceAttributes(/job:worker/replica:0/task:0/device:TPU:5, TPU, 0, 0)\n"
          ]
        },
        {
          "output_type": "stream",
          "name": "stderr",
          "text": [
            "INFO:tensorflow:*** Available Device: _DeviceAttributes(/job:worker/replica:0/task:0/device:TPU:5, TPU, 0, 0)\n"
          ]
        },
        {
          "output_type": "stream",
          "name": "stdout",
          "text": [
            "INFO:tensorflow:*** Available Device: _DeviceAttributes(/job:worker/replica:0/task:0/device:TPU:6, TPU, 0, 0)\n"
          ]
        },
        {
          "output_type": "stream",
          "name": "stderr",
          "text": [
            "INFO:tensorflow:*** Available Device: _DeviceAttributes(/job:worker/replica:0/task:0/device:TPU:6, TPU, 0, 0)\n"
          ]
        },
        {
          "output_type": "stream",
          "name": "stdout",
          "text": [
            "INFO:tensorflow:*** Available Device: _DeviceAttributes(/job:worker/replica:0/task:0/device:TPU:7, TPU, 0, 0)\n"
          ]
        },
        {
          "output_type": "stream",
          "name": "stderr",
          "text": [
            "INFO:tensorflow:*** Available Device: _DeviceAttributes(/job:worker/replica:0/task:0/device:TPU:7, TPU, 0, 0)\n"
          ]
        },
        {
          "output_type": "stream",
          "name": "stdout",
          "text": [
            "INFO:tensorflow:*** Available Device: _DeviceAttributes(/job:worker/replica:0/task:0/device:TPU_SYSTEM:0, TPU_SYSTEM, 0, 0)\n"
          ]
        },
        {
          "output_type": "stream",
          "name": "stderr",
          "text": [
            "INFO:tensorflow:*** Available Device: _DeviceAttributes(/job:worker/replica:0/task:0/device:TPU_SYSTEM:0, TPU_SYSTEM, 0, 0)\n"
          ]
        },
        {
          "output_type": "stream",
          "name": "stdout",
          "text": [
            "INFO:tensorflow:*** Available Device: _DeviceAttributes(/job:worker/replica:0/task:0/device:XLA_CPU:0, XLA_CPU, 0, 0)\n"
          ]
        },
        {
          "output_type": "stream",
          "name": "stderr",
          "text": [
            "INFO:tensorflow:*** Available Device: _DeviceAttributes(/job:worker/replica:0/task:0/device:XLA_CPU:0, XLA_CPU, 0, 0)\n"
          ]
        }
      ],
      "source": [
        "!pip install -q tensorflow-addons\n",
        "!pip install -q einops\n",
        "!pip install -q --upgrade imgaug\n",
        "!pip install -q tf-models-official\n",
        "\n",
        "import numpy as np\n",
        "from math import pi\n",
        "import tensorflow as tf\n",
        "from tensorflow import keras\n",
        "from tensorflow.keras import layers\n",
        "import tensorflow_addons as tfa\n",
        "from einops import rearrange, repeat\n",
        "import official.vision.image_classification.augment as aug\n",
        "import os\n",
        "tf.random.set_seed(42)\n",
        "\n",
        "resolver = tf.distribute.cluster_resolver.TPUClusterResolver(tpu='')\n",
        "tf.config.experimental_connect_to_cluster(resolver)\n",
        "\n",
        "# This is the TPU initialization code that has to be at the beginning.\n",
        "tf.tpu.experimental.initialize_tpu_system(resolver)\n",
        "strategy = tf.distribute.TPUStrategy(resolver)"
      ]
    },
    {
      "cell_type": "markdown",
      "metadata": {
        "id": "oRkCTh6yYMtb"
      },
      "source": [
        "## Setup Hyperparameters:"
      ]
    },
    {
      "cell_type": "code",
      "source": [
        "path = 'baseline'\n",
        "os.mkdir(path)"
      ],
      "metadata": {
        "id": "tm0uQHUUZD0w"
      },
      "execution_count": 2,
      "outputs": []
    },
    {
      "cell_type": "code",
      "execution_count": 3,
      "metadata": {
        "colab": {
          "base_uri": "https://localhost:8080/"
        },
        "id": "clCuATqhO4dS",
        "outputId": "a93d8193-4c51-43a0-cd33-128a74c6d3b3"
      },
      "outputs": [
        {
          "output_type": "stream",
          "name": "stdout",
          "text": [
            "Embedded dimension:  133\n",
            "Projection dimension:  512\n"
          ]
        }
      ],
      "source": [
        "learning_rate = 0.002\n",
        "weight_decay = 0.0000\n",
        "batch_size = 256\n",
        "num_epochs = 120\n",
        "num_classes = 10\n",
        "img_size = 32\n",
        "input_axis = 2              # input axis 1 for audio/sequence data, 2 for image and 3 for 3D and/or video\n",
        "input_channels = 3          # number of input channels: 3 for RGB image\n",
        "num_freq_bands = 32         # number of freq bands, with original value (2 * K + 1)\n",
        "max_freq = 16               # maximum frequency, hyperparameter depending on how fine the data is\n",
        "data_dim = img_size**2      # shape of the image after flatten out\n",
        "embedded_dim = (input_axis * (num_freq_bands * 2 + 1)) + input_channels   # Embedding size of each element in the data and latent arrays.\n",
        "latent_dim = 16            # Size of the latent array.\n",
        "projection_dim = 512\n",
        "num_heads = 8         # Number of self-attentiom heads.\n",
        "num_transformer_blocks = 4\n",
        "num_iterations = 2    # Repetitions of the cross-attention and Transformer modules.\n",
        "ffn_dropout_rate = 0.0      # dropout rate for feed forward network\n",
        "attn_dropout_rate = 0.0     # dropout rate for cross attention module\n",
        "ffn_units = [\n",
        "    projection_dim,\n",
        "    projection_dim,\n",
        "    ]                 # Size of the Transformer Feedforward network.\n",
        "classifier_units = [\n",
        "    projection_dim,\n",
        "    num_classes,\n",
        "]                      # Size of the Feedforward network of the final classifier.\n",
        "print('Embedded dimension: ', embedded_dim)\n",
        "print('Projection dimension: ', projection_dim)"
      ]
    },
    {
      "cell_type": "markdown",
      "metadata": {
        "id": "GnImlwcGPi7o"
      },
      "source": [
        "## Load and apply Fourier encoding on the data:"
      ]
    },
    {
      "cell_type": "code",
      "execution_count": 4,
      "metadata": {
        "colab": {
          "base_uri": "https://localhost:8080/"
        },
        "id": "kDY9XgJoOpSr",
        "outputId": "3c9a7d26-eb10-45a7-de6d-e17a2d21b269"
      },
      "outputs": [
        {
          "output_type": "stream",
          "name": "stdout",
          "text": [
            "Downloading data from https://www.cs.toronto.edu/~kriz/cifar-10-python.tar.gz\n",
            "170500096/170498071 [==============================] - 2s 0us/step\n",
            "170508288/170498071 [==============================] - 2s 0us/step\n",
            "x_train shape: (40000, 32, 32, 3), y_train shape: (40000, 1)\n",
            "x_val shape: (10000, 32, 32, 3), y_val shape: (10000, 1)\n",
            "x_train shape: (10000, 32, 32, 3), y_train shape: (10000, 1)\n"
          ]
        }
      ],
      "source": [
        "(x_train, y_train), (x_test, y_test) = keras.datasets.cifar10.load_data()\n",
        "\n",
        "from sklearn.model_selection import train_test_split\n",
        "x_train, x_val, y_train, y_val = train_test_split(x_train, y_train, test_size=0.2, random_state=42)\n",
        "\n",
        "print(f'x_train shape: {x_train.shape}, y_train shape: {y_train.shape}')\n",
        "print(f'x_val shape: {x_val.shape}, y_val shape: {y_val.shape}')\n",
        "print(f'x_train shape: {x_test.shape}, y_train shape: {y_test.shape}')"
      ]
    },
    {
      "cell_type": "markdown",
      "metadata": {
        "id": "sdDUF_Ebout2"
      },
      "source": [
        "## Helper Functions:"
      ]
    },
    {
      "cell_type": "code",
      "execution_count": 5,
      "metadata": {
        "id": "zqjGQheZz633"
      },
      "outputs": [],
      "source": [
        "def fourier_encode(x, max_freq, num_bands = 4):\n",
        "  x = tf.expand_dims(x, -1)\n",
        "  orig_x = x\n",
        "\n",
        "  scales = tf.linspace(1., max_freq / 2, num_bands)\n",
        "  # scales = scales[(*((None,) * (len(x.shape) - 1)), Ellipsis)]\n",
        "  scales = tf.reshape(scales, (1, 1, num_bands))\n",
        "\n",
        "  x = x * scales * pi\n",
        "  # x = 2. * np.pi * x * scales\n",
        "  x = tf.concat([tf.sin(x), tf.cos(x)], axis = -1)\n",
        "  x = tf.concat((orig_x, x), axis = -1)\n",
        "  return x"
      ]
    },
    {
      "cell_type": "code",
      "execution_count": 6,
      "metadata": {
        "id": "-ePLKBFjuDAr"
      },
      "outputs": [],
      "source": [
        "class PixelFlatten(keras.layers.Layer): # flatten encoded images from shape (n, x, y, c) to (n, x*y, c)\n",
        "  def __init__(self):\n",
        "        super(PixelFlatten, self).__init__()\n",
        "  def call(self, inputs):\n",
        "        #return rearrange(inputs, \"b ... d -> b (...) d\")\n",
        "        return rearrange(inputs, \"b d ... -> (b d) ... \")"
      ]
    },
    {
      "cell_type": "code",
      "execution_count": 7,
      "metadata": {
        "id": "rp2m7Ik66UvX"
      },
      "outputs": [],
      "source": [
        "def feed_forward(hidden_units, activation='gelu', use_bias=True, dropout_rate=0.0, name=None):\n",
        "    ffn = []\n",
        "\n",
        "    for units in hidden_units[:-1]:\n",
        "        ffn.append(layers.Dense(units, activation=activation, use_bias=use_bias))\n",
        "\n",
        "    ffn.append(layers.Dense(units=hidden_units[-1], use_bias=use_bias))\n",
        "    ffn.append(layers.Dropout(dropout_rate))\n",
        "\n",
        "    ffn = tf.keras.Sequential(ffn, name=name)\n",
        "    return ffn"
      ]
    },
    {
      "cell_type": "markdown",
      "metadata": {
        "id": "OkIfC4arUhFN"
      },
      "source": [
        "### Cross-attention module\n",
        "![image.png](data:image/png;base64,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)\n",
        "&nbsp;&nbsp;&nbsp;&nbsp;&nbsp;&nbsp;&nbsp;&nbsp;&nbsp;&nbsp;&nbsp;&nbsp;&nbsp;&nbsp;&nbsp;&nbsp;&nbsp;&nbsp;&nbsp;&nbsp;&nbsp;&nbsp;&nbsp;&nbsp;&nbsp;&nbsp;&nbsp;&nbsp;&nbsp;&nbsp;&nbsp;\n",
        "![image.png](data:image/png;base64,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)"
      ]
    },
    {
      "cell_type": "markdown",
      "metadata": {
        "id": "-_XooGzBZBg3"
      },
      "source": [
        "**we should consider adding input channels instead of projection dimension for the byte array**"
      ]
    },
    {
      "cell_type": "code",
      "execution_count": 8,
      "metadata": {
        "id": "qoU3jmu1_HCD"
      },
      "outputs": [],
      "source": [
        "def cross_attention_module(data_dim,\n",
        "                           embedded_dim,\n",
        "                           latent_dim,\n",
        "                           projection_dim, \n",
        "                           ffn_units, \n",
        "                           ffn_dropout_rate = 0,\n",
        "                           attn_dropout_rate = 0,\n",
        "                           name = None\n",
        "):\n",
        "    ''' According to the paper, the latent array has shape (N, D), which \n",
        "    corresponding to shape (latent_dim, projection_dim) in this function'''\n",
        "\n",
        "    inputs = {\n",
        "        # Recieve the latent array as an input of shape [1, latent_dim, projection_dim].\n",
        "        \"latent_array\": layers.Input(shape=(latent_dim, projection_dim)),\n",
        "        # Recieve the data_array (encoded image) as an input of shape [batch_size, data_dim, projection_dim].\n",
        "        \"data_array\": layers.Input(shape=(data_dim, embedded_dim))\n",
        "    }\n",
        "\n",
        "    # Apply layer norm to the inputs\n",
        "    latent_array = layers.LayerNormalization()(inputs[\"latent_array\"])\n",
        "    data_array = layers.LayerNormalization()(inputs[\"data_array\"])\n",
        "\n",
        "    # The queries, keys, and values have the same number of channels as the minimum of the input channels\n",
        "    channels_num = min(embedded_dim, projection_dim)\n",
        "\n",
        "    # Create query tensor: [1, latent_dim, channels_num].\n",
        "    query = layers.Dense(units=channels_num)(latent_array)\n",
        "    # Create key tensor: [batch_size, data_dim, channels_num].\n",
        "    key = layers.Dense(units=channels_num)(data_array)\n",
        "    # Create value tensor: [batch_size, data_dim, channels_num].\n",
        "    value = layers.Dense(units=channels_num)(data_array)\n",
        "\n",
        "    # Generate cross-attention outputs: [batch_size, latent_dim, channels_num].\n",
        "    attn_output = layers.Attention(use_scale=True, dropout=attn_dropout_rate)(\n",
        "        [query, key, value], return_attention_scores=False\n",
        "    )\n",
        "    \n",
        "    # The output of attention is passed through an additional linear \n",
        "    # layer to project it to the same number of channels in the query inputs\n",
        "    attn_output = layers.Dense(units=projection_dim)(attn_output)\n",
        "\n",
        "    # Skip connection 1.\n",
        "    attn_output = layers.Add()([attn_output, latent_array])\n",
        "    # Apply layer norm.\n",
        "    attn_output = layers.LayerNormalization()(attn_output)\n",
        "    # Apply Feedforward network.\n",
        "    ffn_output = feed_forward(hidden_units=ffn_units,\n",
        "                              dropout_rate=ffn_dropout_rate,\n",
        "                              name=name+'ff')(attn_output)\n",
        "    # Skip connection 2.\n",
        "    ffn_output = layers.Add()([ffn_output, attn_output])\n",
        "\n",
        "    # Create the Keras model.\n",
        "    model = tf.keras.Model(inputs=inputs, outputs=ffn_output, name=name)\n",
        "    return model"
      ]
    },
    {
      "cell_type": "markdown",
      "metadata": {
        "id": "e5UV8_UYSCJH"
      },
      "source": [
        "### Latent Transformer module"
      ]
    },
    {
      "cell_type": "markdown",
      "metadata": {
        "id": "6w0fJzGoTgL5"
      },
      "source": [
        "![image.png](data:image/png;base64,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)"
      ]
    },
    {
      "cell_type": "code",
      "execution_count": 9,
      "metadata": {
        "id": "8bl6Nwt0AE6N"
      },
      "outputs": [],
      "source": [
        "def latent_transformer_module(latent_dim,\n",
        "                              projection_dim,\n",
        "                              num_heads,\n",
        "                              num_transformer_blocks,\n",
        "                              ffn_units,\n",
        "                              ffn_dropout_rate = 0,\n",
        "                              attn_dropout_rate = 0,\n",
        "                              name = None):\n",
        "\n",
        "    # input_shape: [1, latent_dim, projection_dim]\n",
        "    inputs = layers.Input(shape=(latent_dim, projection_dim))\n",
        "\n",
        "    x0 = inputs\n",
        "    # Create multiple layers of the Transformer block.\n",
        "    for _ in range(num_transformer_blocks):\n",
        "        # Apply layer normalization 1.\n",
        "        x1 = layers.LayerNormalization()(x0)\n",
        "        # Create a multi-head self-attention layer.\n",
        "        attn_output = layers.MultiHeadAttention(num_heads=num_heads, \n",
        "                                                key_dim=projection_dim, \n",
        "                                                dropout=attn_dropout_rate)(x1, x1)\n",
        "        # Skip connection 1.\n",
        "        x2 = layers.Add()([attn_output, x0])\n",
        "        # Apply layer normalization 2.\n",
        "        x3 = layers.LayerNormalization()(x2)\n",
        "        # Apply Feedforward network.\n",
        "        x3 = feed_forward(hidden_units=ffn_units, dropout_rate=ffn_dropout_rate, name=name+str(_)+'ff')(x3)\n",
        "        # Skip connection 2.\n",
        "        x0 = layers.Add()([x3, x2])\n",
        "\n",
        "    # Create the Keras model.\n",
        "    model = tf.keras.Model(inputs=inputs, outputs=x0, name=name)\n",
        "    return model"
      ]
    },
    {
      "cell_type": "markdown",
      "metadata": {
        "id": "vTtzvxoSR_zM"
      },
      "source": [
        "## Perceiver class"
      ]
    },
    {
      "cell_type": "code",
      "execution_count": 10,
      "metadata": {
        "id": "yD_84sSkR80m"
      },
      "outputs": [],
      "source": [
        "class Perceiver(tf.keras.Model):\n",
        "    def __init__(\n",
        "        self,\n",
        "        num_freq_bands,\n",
        "        max_freq,\n",
        "        data_dim,\n",
        "        embedded_dim,\n",
        "        latent_dim,\n",
        "        projection_dim,\n",
        "        num_heads, # Number of Latent Self Attention heads, 8 in paper\n",
        "        num_transformer_blocks, # Number of Latent Transformer blocks\n",
        "        num_iterations, # Depth of the network\n",
        "        ffn_units,\n",
        "        classifier_units,\n",
        "        ffn_dropout_rate,\n",
        "        attn_dropout_rate,\n",
        "        share_weights = True       \n",
        "    ):\n",
        "        super(Perceiver, self).__init__()\n",
        "        self.num_freq_bands = num_freq_bands\n",
        "        self.max_freq = max_freq\n",
        "        self.data_dim = data_dim\n",
        "        self.embedded_dim = embedded_dim\n",
        "        self.latent_dim = latent_dim\n",
        "        self.projection_dim = projection_dim\n",
        "        self.num_heads = num_heads\n",
        "        self.num_transformer_blocks = num_transformer_blocks\n",
        "        self.num_iterations = num_iterations\n",
        "        self.ffn_units = ffn_units\n",
        "        self.classifier_units = classifier_units\n",
        "        self.ffn_dropout_rate = ffn_dropout_rate\n",
        "        self.attn_dropout_rate = attn_dropout_rate\n",
        "        self.share_weights = share_weights\n",
        "\n",
        "        # Create latent array with shape [latent_dim, projection_dim], or (N, D) according to the paper\n",
        "        initializer = tf.keras.initializers.TruncatedNormal(mean=0.0, stddev=0.02)\n",
        "        self.latent_array = self.add_weight(\n",
        "            shape=(self.latent_dim, self.projection_dim),\n",
        "            initializer = initializer,\n",
        "            trainable=True,\n",
        "            name='LatentArray'\n",
        "        )\n",
        "        \n",
        "        self.stacks = []\n",
        "        for _ in range(self.num_iterations): # The repetition other than the first one share weights together\n",
        "          self.stacks.append([cross_attention_module(self.data_dim,\n",
        "                                                     self.embedded_dim,\n",
        "                                                     self.latent_dim,\n",
        "                                                     self.projection_dim,\n",
        "                                                     self.ffn_units,\n",
        "                                                     self.ffn_dropout_rate,\n",
        "                                                     self.attn_dropout_rate,\n",
        "                                                     name = 'CrossAttn' + str(_)\n",
        "                                                     ), \n",
        "                              latent_transformer_module(self.latent_dim,\n",
        "                                                        self.projection_dim,\n",
        "                                                        self.num_heads,\n",
        "                                                        self.num_transformer_blocks,\n",
        "                                                        self.ffn_units,\n",
        "                                                        self.ffn_dropout_rate,\n",
        "                                                        self.attn_dropout_rate,\n",
        "                                                        name = 'LatentTransformer' + str(_)\n",
        "                                                        )])\n",
        "          \n",
        "          # Create global average pooling layer.\n",
        "        self.global_average_pooling = layers.GlobalAveragePooling1D()\n",
        "\n",
        "        # Create a classification head.\n",
        "        self.classification_head = feed_forward(hidden_units=self.classifier_units, \n",
        "                                                dropout_rate=self.ffn_dropout_rate, name='to_logits')\n",
        "\n",
        "    def call(self, input):\n",
        "        # # Append fourier encode to the inputs\n",
        "        # print(input.get_shape())\n",
        "        # enc_input = keras.layers.Concatenate(axis=-1)([input, self.enc_pos])\n",
        "        # flatten_input = self.input_flatten(input)\n",
        "        # Prepare cross-attention inputs.\n",
        "        cross_attention_inputs = {\n",
        "            \"latent_array\": tf.expand_dims(self.latent_array, 0),\n",
        "            \"data_array\": input,\n",
        "        }\n",
        "        # Apply the cross-attention and the Transformer modules iteratively.\n",
        "        for iteration in range(self.num_iterations):\n",
        "            # Apply cross-attention between the latent array and the data array.\n",
        "            latent_array = self.stacks[iteration][0](cross_attention_inputs)\n",
        "            # Apply self-attention Transformer to the latent array.\n",
        "            latent_array = self.stacks[iteration][1](latent_array)\n",
        "            # Set the latent array of the next iteration.\n",
        "            cross_attention_inputs[\"latent_array\"] = latent_array\n",
        "\n",
        "        # Apply global average pooling to generate a [batch_size, projection_dim] repesentation tensor.\n",
        "        average = self.global_average_pooling(latent_array)\n",
        "        # Generate logits.\n",
        "        logits = self.classification_head(average)\n",
        "        return tf.nn.softmax(logits)"
      ]
    },
    {
      "cell_type": "markdown",
      "metadata": {
        "id": "yjkn8-NKGiYX"
      },
      "source": [
        "## Image Augmentation & Fourier Encoding:"
      ]
    },
    {
      "cell_type": "code",
      "execution_count": 11,
      "metadata": {
        "id": "W4tQQXzRGiIz"
      },
      "outputs": [],
      "source": [
        "axis = [img_size, img_size]\n",
        "axis_pos = list(map(lambda size: tf.linspace(-1.0, 1.0, num = size), axis))\n",
        "pos = tf.stack(tf.meshgrid(*axis_pos, indexing = \"ij\"), axis = -1)\n",
        "\n",
        "enc_pos = fourier_encode(pos, max_freq, num_freq_bands)\n",
        "enc_pos = rearrange(enc_pos, \"... n d -> ... (n d)\")\n",
        "\n",
        "flatten = PixelFlatten()\n",
        "\n",
        "# Data Augmentation\n",
        "rand_aug = aug.RandAugment(3, 8) \n",
        "Rot = keras.layers.experimental.preprocessing.RandomRotation(0.15)\n",
        "Trans = keras.layers.experimental.preprocessing.RandomTranslation(0.15, 0.15)\n",
        "Flip = tf.keras.layers.experimental.preprocessing.RandomFlip(mode= 'horizontal')\n",
        "Zoom = tf.keras.layers.experimental.preprocessing.RandomZoom(0.1, 0.1)\n",
        "Contrast = tf.keras.layers.experimental.preprocessing.RandomContrast(0.2)\n",
        "\n",
        "AUTO = tf.data.experimental.AUTOTUNE\n",
        "\n",
        "#Create dataset object\n",
        "trainset = (\n",
        "    tf.data.Dataset.from_tensor_slices((x_train, y_train))\n",
        "    .map(\n",
        "        lambda x, y: (tf.image.resize(x, (img_size, img_size)), y),\n",
        "        num_parallel_calls=AUTO,\n",
        "    )\n",
        "    # .map(\n",
        "    #     lambda x, y: (tf.cast(x, tf.uint8), y),\n",
        "    #     num_parallel_calls=AUTO,\n",
        "    #      )\n",
        "    # .map(\n",
        "    #     lambda x, y: (rand_aug.distort(x), y),\n",
        "    #     num_parallel_calls=AUTO,\n",
        "    #     )\n",
        "    .map(\n",
        "        lambda x, y: (Rot.call(x), y),\n",
        "        num_parallel_calls=AUTO,\n",
        "    )\n",
        "    .map(\n",
        "        lambda x, y: (Trans.call(x), y),\n",
        "        num_parallel_calls=AUTO,\n",
        "    )\n",
        "    .map(\n",
        "        lambda x, y: (Flip.call(x), y),\n",
        "        num_parallel_calls=AUTO,\n",
        "    )\n",
        "    .map(\n",
        "        lambda x, y: (Zoom.call(x), y),\n",
        "        num_parallel_calls=AUTO,\n",
        "    )\n",
        "    .map(\n",
        "        lambda x, y: (Contrast.call(x), y),\n",
        "        num_parallel_calls=AUTO,\n",
        "    )\n",
        "    .map(\n",
        "        lambda x, y: (tf.cast(x, tf.float32), y),\n",
        "        num_parallel_calls=AUTO,\n",
        "         )\n",
        "    .map(\n",
        "        lambda x, y: (flatten.call(keras.layers.Concatenate(axis=-1)([x, enc_pos])), y),\n",
        "        num_parallel_calls=AUTO,\n",
        "         )\n",
        "    .batch(batch_size)\n",
        "    .prefetch(AUTO)\n",
        ")\n",
        "\n",
        "valset = (\n",
        "    tf.data.Dataset.from_tensor_slices((x_val, y_val))\n",
        "    .map(\n",
        "        lambda x, y: (tf.image.resize(x, (img_size, img_size)), y),\n",
        "        num_parallel_calls=AUTO,\n",
        "    )\n",
        "    .map(\n",
        "        lambda x, y: (tf.cast(x, tf.float32), y),\n",
        "        num_parallel_calls=AUTO,\n",
        "         )\n",
        "    .map(\n",
        "        lambda x, y: (flatten.call(keras.layers.Concatenate(axis=-1)([x, enc_pos])), y),\n",
        "        num_parallel_calls=AUTO,\n",
        "         )\n",
        "    .batch(batch_size)\n",
        "    .prefetch(AUTO)\n",
        ")\n",
        "\n",
        "testset = (\n",
        "    tf.data.Dataset.from_tensor_slices((x_test, y_test))\n",
        "    .map(\n",
        "        lambda x, y: (tf.image.resize(x, (img_size, img_size)), y),\n",
        "        num_parallel_calls=AUTO,\n",
        "    )\n",
        "    .map(\n",
        "        lambda x, y: (tf.cast(x, tf.float32), y),\n",
        "        num_parallel_calls=AUTO,\n",
        "         )\n",
        "    .map(\n",
        "        lambda x, y: (flatten.call(keras.layers.Concatenate(axis=-1)([x, enc_pos])), y),\n",
        "        num_parallel_calls=AUTO,\n",
        "         )\n",
        "    .batch(batch_size)\n",
        "    .prefetch(AUTO)\n",
        ")"
      ]
    },
    {
      "cell_type": "markdown",
      "metadata": {
        "id": "YA1129BB0Zp6"
      },
      "source": [
        "## Create model:"
      ]
    },
    {
      "cell_type": "code",
      "execution_count": 12,
      "metadata": {
        "id": "tdmELRikPrJU"
      },
      "outputs": [],
      "source": [
        "with strategy.scope():\n",
        "  model = Perceiver(num_freq_bands,\n",
        "                    max_freq,\n",
        "                    data_dim,\n",
        "                    embedded_dim,\n",
        "                    latent_dim,\n",
        "                    projection_dim,\n",
        "                    num_heads,\n",
        "                    num_transformer_blocks,\n",
        "                    num_iterations,\n",
        "                    ffn_units,\n",
        "                    classifier_units,\n",
        "                    ffn_dropout_rate,\n",
        "                    attn_dropout_rate,\n",
        "  )\n",
        "  model.compile(optimizer=tfa.optimizers.LAMB(learning_rate=learning_rate),\n",
        "                loss=tf.keras.losses.SparseCategoricalCrossentropy(),\n",
        "                metrics=[tf.keras.metrics.SparseCategoricalAccuracy(name=\"acc\"),\n",
        "                          tf.keras.metrics.SparseTopKCategoricalAccuracy(5, name=\"top5-acc\")]\n",
        "                )"
      ]
    },
    {
      "cell_type": "code",
      "execution_count": 13,
      "metadata": {
        "id": "dXVezPvJMUXO"
      },
      "outputs": [],
      "source": [
        "# Create a learning rate scheduler callback (reduce the learning rate when val_loss is not improve after 5 epochs: new_lr=lr*factor,)\n",
        "reduce_lr = tf.keras.callbacks.ReduceLROnPlateau(\n",
        "    monitor=\"val_loss\", factor=0.2, patience=5\n",
        ")\n",
        "\n",
        "# Create an early stopping callback. (Stop the training if the val_loss does not improve after 20 epochs)\n",
        "early_stopping = tf.keras.callbacks.EarlyStopping(\n",
        "    monitor=\"val_loss\", patience=30, restore_best_weights=True\n",
        ")"
      ]
    },
    {
      "cell_type": "code",
      "execution_count": 14,
      "metadata": {
        "colab": {
          "base_uri": "https://localhost:8080/"
        },
        "id": "eCTwRYYDQIvf",
        "outputId": "ce540320-80ea-4711-c4dc-80ef7cb5d013"
      },
      "outputs": [
        {
          "output_type": "stream",
          "name": "stdout",
          "text": [
            "Epoch 1/120\n",
            "WARNING:tensorflow:From /usr/local/lib/python3.7/dist-packages/keras/engine/training.py:2970: StrategyBase.unwrap (from tensorflow.python.distribute.distribute_lib) is deprecated and will be removed in a future version.\n",
            "Instructions for updating:\n",
            "use `experimental_local_results` instead.\n"
          ]
        },
        {
          "output_type": "stream",
          "name": "stderr",
          "text": [
            "WARNING:tensorflow:From /usr/local/lib/python3.7/dist-packages/keras/engine/training.py:2970: StrategyBase.unwrap (from tensorflow.python.distribute.distribute_lib) is deprecated and will be removed in a future version.\n",
            "Instructions for updating:\n",
            "use `experimental_local_results` instead.\n"
          ]
        },
        {
          "output_type": "stream",
          "name": "stdout",
          "text": [
            "157/157 [==============================] - 158s 494ms/step - loss: 2.3197 - acc: 0.1848 - top5-acc: 0.6874 - val_loss: 1.9523 - val_acc: 0.2747 - val_top5-acc: 0.7955 - lr: 0.0020\n",
            "Epoch 2/120\n",
            "157/157 [==============================] - 23s 146ms/step - loss: 1.9364 - acc: 0.2797 - top5-acc: 0.8103 - val_loss: 1.9128 - val_acc: 0.2820 - val_top5-acc: 0.8143 - lr: 0.0020\n",
            "Epoch 3/120\n",
            "157/157 [==============================] - 23s 143ms/step - loss: 1.8417 - acc: 0.3196 - top5-acc: 0.8386 - val_loss: 1.8205 - val_acc: 0.3120 - val_top5-acc: 0.8526 - lr: 0.0020\n",
            "Epoch 4/120\n",
            "157/157 [==============================] - 23s 145ms/step - loss: 1.7823 - acc: 0.3430 - top5-acc: 0.8557 - val_loss: 1.7212 - val_acc: 0.3675 - val_top5-acc: 0.8705 - lr: 0.0020\n",
            "Epoch 5/120\n",
            "157/157 [==============================] - 23s 144ms/step - loss: 1.7208 - acc: 0.3673 - top5-acc: 0.8727 - val_loss: 1.6361 - val_acc: 0.3972 - val_top5-acc: 0.8862 - lr: 0.0020\n",
            "Epoch 6/120\n",
            "157/157 [==============================] - 23s 145ms/step - loss: 1.6733 - acc: 0.3868 - top5-acc: 0.8799 - val_loss: 1.6117 - val_acc: 0.4020 - val_top5-acc: 0.8935 - lr: 0.0020\n",
            "Epoch 7/120\n",
            "157/157 [==============================] - 23s 144ms/step - loss: 1.6331 - acc: 0.4025 - top5-acc: 0.8885 - val_loss: 1.5857 - val_acc: 0.4054 - val_top5-acc: 0.9024 - lr: 0.0020\n",
            "Epoch 8/120\n",
            "157/157 [==============================] - 23s 145ms/step - loss: 1.6141 - acc: 0.4075 - top5-acc: 0.8941 - val_loss: 1.5727 - val_acc: 0.4094 - val_top5-acc: 0.9071 - lr: 0.0020\n",
            "Epoch 9/120\n",
            "157/157 [==============================] - 23s 145ms/step - loss: 1.5895 - acc: 0.4199 - top5-acc: 0.8943 - val_loss: 1.5360 - val_acc: 0.4237 - val_top5-acc: 0.9141 - lr: 0.0020\n",
            "Epoch 10/120\n",
            "157/157 [==============================] - 23s 145ms/step - loss: 1.5649 - acc: 0.4305 - top5-acc: 0.9011 - val_loss: 1.4885 - val_acc: 0.4476 - val_top5-acc: 0.9187 - lr: 0.0020\n",
            "Epoch 11/120\n",
            "157/157 [==============================] - 23s 145ms/step - loss: 1.5475 - acc: 0.4383 - top5-acc: 0.9072 - val_loss: 1.4721 - val_acc: 0.4626 - val_top5-acc: 0.9202 - lr: 0.0020\n",
            "Epoch 12/120\n",
            "157/157 [==============================] - 23s 145ms/step - loss: 1.5290 - acc: 0.4432 - top5-acc: 0.9078 - val_loss: 1.4572 - val_acc: 0.4692 - val_top5-acc: 0.9193 - lr: 0.0020\n",
            "Epoch 13/120\n",
            "157/157 [==============================] - 23s 147ms/step - loss: 1.5060 - acc: 0.4545 - top5-acc: 0.9101 - val_loss: 1.4425 - val_acc: 0.4768 - val_top5-acc: 0.9214 - lr: 0.0020\n",
            "Epoch 14/120\n",
            "157/157 [==============================] - 24s 150ms/step - loss: 1.4906 - acc: 0.4618 - top5-acc: 0.9118 - val_loss: 1.4291 - val_acc: 0.4821 - val_top5-acc: 0.9249 - lr: 0.0020\n",
            "Epoch 15/120\n",
            "157/157 [==============================] - 22s 139ms/step - loss: 1.4810 - acc: 0.4646 - top5-acc: 0.9146 - val_loss: 1.4407 - val_acc: 0.4717 - val_top5-acc: 0.9241 - lr: 0.0020\n",
            "Epoch 16/120\n",
            "157/157 [==============================] - 23s 145ms/step - loss: 1.4631 - acc: 0.4693 - top5-acc: 0.9166 - val_loss: 1.4274 - val_acc: 0.4811 - val_top5-acc: 0.9268 - lr: 0.0020\n",
            "Epoch 17/120\n",
            "157/157 [==============================] - 23s 145ms/step - loss: 1.4493 - acc: 0.4752 - top5-acc: 0.9199 - val_loss: 1.4094 - val_acc: 0.4938 - val_top5-acc: 0.9261 - lr: 0.0020\n",
            "Epoch 18/120\n",
            "157/157 [==============================] - 23s 145ms/step - loss: 1.4372 - acc: 0.4823 - top5-acc: 0.9197 - val_loss: 1.4001 - val_acc: 0.4950 - val_top5-acc: 0.9257 - lr: 0.0020\n",
            "Epoch 19/120\n",
            "157/157 [==============================] - 23s 145ms/step - loss: 1.4148 - acc: 0.4895 - top5-acc: 0.9248 - val_loss: 1.3950 - val_acc: 0.4914 - val_top5-acc: 0.9281 - lr: 0.0020\n",
            "Epoch 20/120\n",
            "157/157 [==============================] - 23s 145ms/step - loss: 1.3985 - acc: 0.4988 - top5-acc: 0.9264 - val_loss: 1.3757 - val_acc: 0.5079 - val_top5-acc: 0.9312 - lr: 0.0020\n",
            "Epoch 21/120\n",
            "157/157 [==============================] - 23s 145ms/step - loss: 1.3916 - acc: 0.4994 - top5-acc: 0.9268 - val_loss: 1.3630 - val_acc: 0.5093 - val_top5-acc: 0.9308 - lr: 0.0020\n",
            "Epoch 22/120\n",
            "157/157 [==============================] - 23s 145ms/step - loss: 1.3668 - acc: 0.5101 - top5-acc: 0.9298 - val_loss: 1.3601 - val_acc: 0.5093 - val_top5-acc: 0.9301 - lr: 0.0020\n",
            "Epoch 23/120\n",
            "157/157 [==============================] - 23s 145ms/step - loss: 1.3555 - acc: 0.5120 - top5-acc: 0.9327 - val_loss: 1.3428 - val_acc: 0.5262 - val_top5-acc: 0.9312 - lr: 0.0020\n",
            "Epoch 24/120\n",
            "157/157 [==============================] - 22s 139ms/step - loss: 1.3427 - acc: 0.5139 - top5-acc: 0.9332 - val_loss: 1.3540 - val_acc: 0.5197 - val_top5-acc: 0.9324 - lr: 0.0020\n",
            "Epoch 25/120\n",
            "157/157 [==============================] - 22s 138ms/step - loss: 1.3304 - acc: 0.5246 - top5-acc: 0.9332 - val_loss: 1.3751 - val_acc: 0.5097 - val_top5-acc: 0.9307 - lr: 0.0020\n",
            "Epoch 26/120\n",
            "157/157 [==============================] - 23s 144ms/step - loss: 1.3208 - acc: 0.5250 - top5-acc: 0.9377 - val_loss: 1.3688 - val_acc: 0.5126 - val_top5-acc: 0.9307 - lr: 0.0020\n",
            "Epoch 27/120\n",
            "157/157 [==============================] - 22s 138ms/step - loss: 1.3029 - acc: 0.5314 - top5-acc: 0.9389 - val_loss: 1.3433 - val_acc: 0.5242 - val_top5-acc: 0.9340 - lr: 0.0020\n",
            "Epoch 28/120\n",
            "157/157 [==============================] - 23s 146ms/step - loss: 1.2887 - acc: 0.5368 - top5-acc: 0.9406 - val_loss: 1.3146 - val_acc: 0.5352 - val_top5-acc: 0.9363 - lr: 0.0020\n",
            "Epoch 29/120\n",
            "157/157 [==============================] - 22s 139ms/step - loss: 1.2746 - acc: 0.5422 - top5-acc: 0.9416 - val_loss: 1.3452 - val_acc: 0.5249 - val_top5-acc: 0.9337 - lr: 0.0020\n",
            "Epoch 30/120\n",
            "157/157 [==============================] - 22s 139ms/step - loss: 1.2645 - acc: 0.5464 - top5-acc: 0.9432 - val_loss: 1.3505 - val_acc: 0.5251 - val_top5-acc: 0.9321 - lr: 0.0020\n",
            "Epoch 31/120\n",
            "157/157 [==============================] - 22s 139ms/step - loss: 1.2531 - acc: 0.5498 - top5-acc: 0.9457 - val_loss: 1.3496 - val_acc: 0.5264 - val_top5-acc: 0.9338 - lr: 0.0020\n",
            "Epoch 32/120\n",
            "157/157 [==============================] - 22s 139ms/step - loss: 1.2412 - acc: 0.5582 - top5-acc: 0.9460 - val_loss: 1.3681 - val_acc: 0.5235 - val_top5-acc: 0.9307 - lr: 0.0020\n",
            "Epoch 33/120\n",
            "157/157 [==============================] - 22s 139ms/step - loss: 1.2285 - acc: 0.5601 - top5-acc: 0.9494 - val_loss: 1.3685 - val_acc: 0.5261 - val_top5-acc: 0.9281 - lr: 0.0020\n",
            "Epoch 34/120\n",
            "157/157 [==============================] - 23s 145ms/step - loss: 1.1340 - acc: 0.5951 - top5-acc: 0.9567 - val_loss: 1.2343 - val_acc: 0.5643 - val_top5-acc: 0.9422 - lr: 4.0000e-04\n",
            "Epoch 35/120\n",
            "157/157 [==============================] - 23s 145ms/step - loss: 1.0939 - acc: 0.6102 - top5-acc: 0.9589 - val_loss: 1.2220 - val_acc: 0.5687 - val_top5-acc: 0.9424 - lr: 4.0000e-04\n",
            "Epoch 36/120\n",
            "157/157 [==============================] - 22s 139ms/step - loss: 1.0704 - acc: 0.6198 - top5-acc: 0.9614 - val_loss: 1.2266 - val_acc: 0.5686 - val_top5-acc: 0.9428 - lr: 4.0000e-04\n",
            "Epoch 37/120\n",
            "157/157 [==============================] - 22s 140ms/step - loss: 1.0537 - acc: 0.6250 - top5-acc: 0.9632 - val_loss: 1.2227 - val_acc: 0.5730 - val_top5-acc: 0.9435 - lr: 4.0000e-04\n",
            "Epoch 38/120\n",
            "157/157 [==============================] - 23s 145ms/step - loss: 1.0411 - acc: 0.6291 - top5-acc: 0.9636 - val_loss: 1.2196 - val_acc: 0.5720 - val_top5-acc: 0.9437 - lr: 4.0000e-04\n",
            "Epoch 39/120\n",
            "157/157 [==============================] - 23s 144ms/step - loss: 1.0259 - acc: 0.6331 - top5-acc: 0.9666 - val_loss: 1.2276 - val_acc: 0.5719 - val_top5-acc: 0.9413 - lr: 4.0000e-04\n",
            "Epoch 40/120\n",
            "157/157 [==============================] - 22s 140ms/step - loss: 1.0091 - acc: 0.6395 - top5-acc: 0.9674 - val_loss: 1.2334 - val_acc: 0.5691 - val_top5-acc: 0.9432 - lr: 4.0000e-04\n",
            "Epoch 41/120\n",
            "157/157 [==============================] - 22s 140ms/step - loss: 1.0016 - acc: 0.6446 - top5-acc: 0.9672 - val_loss: 1.2283 - val_acc: 0.5713 - val_top5-acc: 0.9429 - lr: 4.0000e-04\n",
            "Epoch 42/120\n",
            "157/157 [==============================] - 22s 139ms/step - loss: 0.9891 - acc: 0.6485 - top5-acc: 0.9699 - val_loss: 1.2297 - val_acc: 0.5741 - val_top5-acc: 0.9444 - lr: 4.0000e-04\n",
            "Epoch 43/120\n",
            "157/157 [==============================] - 22s 140ms/step - loss: 0.9791 - acc: 0.6508 - top5-acc: 0.9681 - val_loss: 1.2236 - val_acc: 0.5757 - val_top5-acc: 0.9439 - lr: 4.0000e-04\n",
            "Epoch 44/120\n",
            "157/157 [==============================] - 23s 146ms/step - loss: 0.9523 - acc: 0.6602 - top5-acc: 0.9714 - val_loss: 1.2005 - val_acc: 0.5820 - val_top5-acc: 0.9469 - lr: 8.0000e-05\n",
            "Epoch 45/120\n",
            "157/157 [==============================] - 23s 145ms/step - loss: 0.9423 - acc: 0.6644 - top5-acc: 0.9730 - val_loss: 1.1999 - val_acc: 0.5826 - val_top5-acc: 0.9481 - lr: 8.0000e-05\n",
            "Epoch 46/120\n",
            "157/157 [==============================] - 23s 146ms/step - loss: 0.9385 - acc: 0.6665 - top5-acc: 0.9727 - val_loss: 1.1993 - val_acc: 0.5819 - val_top5-acc: 0.9482 - lr: 8.0000e-05\n",
            "Epoch 47/120\n",
            "157/157 [==============================] - 22s 139ms/step - loss: 0.9348 - acc: 0.6682 - top5-acc: 0.9723 - val_loss: 1.2053 - val_acc: 0.5793 - val_top5-acc: 0.9473 - lr: 8.0000e-05\n",
            "Epoch 48/120\n",
            "157/157 [==============================] - 22s 141ms/step - loss: 0.9283 - acc: 0.6726 - top5-acc: 0.9733 - val_loss: 1.2066 - val_acc: 0.5800 - val_top5-acc: 0.9467 - lr: 8.0000e-05\n",
            "Epoch 49/120\n",
            "157/157 [==============================] - 22s 141ms/step - loss: 0.9216 - acc: 0.6739 - top5-acc: 0.9722 - val_loss: 1.2046 - val_acc: 0.5832 - val_top5-acc: 0.9481 - lr: 8.0000e-05\n",
            "Epoch 50/120\n",
            "157/157 [==============================] - 22s 140ms/step - loss: 0.9237 - acc: 0.6712 - top5-acc: 0.9732 - val_loss: 1.2100 - val_acc: 0.5786 - val_top5-acc: 0.9476 - lr: 8.0000e-05\n",
            "Epoch 51/120\n",
            "157/157 [==============================] - 22s 140ms/step - loss: 0.9159 - acc: 0.6753 - top5-acc: 0.9740 - val_loss: 1.2084 - val_acc: 0.5799 - val_top5-acc: 0.9475 - lr: 8.0000e-05\n",
            "Epoch 52/120\n",
            "157/157 [==============================] - 22s 140ms/step - loss: 0.9126 - acc: 0.6792 - top5-acc: 0.9735 - val_loss: 1.2093 - val_acc: 0.5823 - val_top5-acc: 0.9467 - lr: 1.6000e-05\n",
            "Epoch 53/120\n",
            "157/157 [==============================] - 22s 141ms/step - loss: 0.9096 - acc: 0.6770 - top5-acc: 0.9742 - val_loss: 1.2103 - val_acc: 0.5810 - val_top5-acc: 0.9450 - lr: 1.6000e-05\n",
            "Epoch 54/120\n",
            "157/157 [==============================] - 22s 140ms/step - loss: 0.9061 - acc: 0.6781 - top5-acc: 0.9751 - val_loss: 1.2095 - val_acc: 0.5820 - val_top5-acc: 0.9459 - lr: 1.6000e-05\n",
            "Epoch 55/120\n",
            "157/157 [==============================] - 22s 140ms/step - loss: 0.9043 - acc: 0.6817 - top5-acc: 0.9737 - val_loss: 1.2113 - val_acc: 0.5807 - val_top5-acc: 0.9457 - lr: 1.6000e-05\n",
            "Epoch 56/120\n",
            "157/157 [==============================] - 22s 141ms/step - loss: 0.9111 - acc: 0.6777 - top5-acc: 0.9735 - val_loss: 1.2092 - val_acc: 0.5806 - val_top5-acc: 0.9464 - lr: 1.6000e-05\n",
            "Epoch 57/120\n",
            "157/157 [==============================] - 22s 140ms/step - loss: 0.9010 - acc: 0.6812 - top5-acc: 0.9743 - val_loss: 1.2091 - val_acc: 0.5808 - val_top5-acc: 0.9459 - lr: 3.2000e-06\n",
            "Epoch 58/120\n",
            "157/157 [==============================] - 22s 140ms/step - loss: 0.8962 - acc: 0.6813 - top5-acc: 0.9750 - val_loss: 1.2095 - val_acc: 0.5816 - val_top5-acc: 0.9458 - lr: 3.2000e-06\n",
            "Epoch 59/120\n",
            "157/157 [==============================] - 22s 140ms/step - loss: 0.8995 - acc: 0.6812 - top5-acc: 0.9741 - val_loss: 1.2099 - val_acc: 0.5807 - val_top5-acc: 0.9458 - lr: 3.2000e-06\n",
            "Epoch 60/120\n",
            "157/157 [==============================] - 22s 139ms/step - loss: 0.9026 - acc: 0.6827 - top5-acc: 0.9746 - val_loss: 1.2104 - val_acc: 0.5806 - val_top5-acc: 0.9452 - lr: 3.2000e-06\n",
            "Epoch 61/120\n",
            "157/157 [==============================] - 22s 140ms/step - loss: 0.8998 - acc: 0.6819 - top5-acc: 0.9761 - val_loss: 1.2104 - val_acc: 0.5796 - val_top5-acc: 0.9453 - lr: 3.2000e-06\n",
            "Epoch 62/120\n",
            "157/157 [==============================] - 22s 140ms/step - loss: 0.9046 - acc: 0.6786 - top5-acc: 0.9746 - val_loss: 1.2104 - val_acc: 0.5801 - val_top5-acc: 0.9456 - lr: 6.4000e-07\n",
            "Epoch 63/120\n",
            "157/157 [==============================] - 22s 141ms/step - loss: 0.9038 - acc: 0.6813 - top5-acc: 0.9742 - val_loss: 1.2103 - val_acc: 0.5804 - val_top5-acc: 0.9458 - lr: 6.4000e-07\n",
            "Epoch 64/120\n",
            "157/157 [==============================] - 23s 146ms/step - loss: 0.9039 - acc: 0.6810 - top5-acc: 0.9749 - val_loss: 1.2105 - val_acc: 0.5799 - val_top5-acc: 0.9452 - lr: 6.4000e-07\n",
            "Epoch 65/120\n",
            "157/157 [==============================] - 22s 140ms/step - loss: 0.9027 - acc: 0.6808 - top5-acc: 0.9745 - val_loss: 1.2106 - val_acc: 0.5803 - val_top5-acc: 0.9456 - lr: 6.4000e-07\n",
            "Epoch 66/120\n",
            "157/157 [==============================] - 26s 168ms/step - loss: 0.8999 - acc: 0.6813 - top5-acc: 0.9740 - val_loss: 1.2106 - val_acc: 0.5805 - val_top5-acc: 0.9454 - lr: 6.4000e-07\n"
          ]
        }
      ],
      "source": [
        "with strategy.scope():\n",
        "  history = model.fit(trainset,\n",
        "                      epochs = num_epochs,\n",
        "                      callbacks = [reduce_lr, early_stopping],\n",
        "                      validation_data = valset\n",
        "                      )"
      ]
    },
    {
      "cell_type": "code",
      "execution_count": 15,
      "metadata": {
        "id": "7Fbt5YnxDYyU"
      },
      "outputs": [],
      "source": [
        "model.save_weights(path+'/my_model.h5')\n",
        "np.save(path+'/history.npy', history.history)"
      ]
    },
    {
      "cell_type": "code",
      "source": [
        "results = []\n",
        "results.append(['Train:', model.evaluate(trainset)])\n",
        "results.append(['Val:', model.evaluate(valset)])\n",
        "results.append(['Test:', model.evaluate(testset)])"
      ],
      "metadata": {
        "colab": {
          "base_uri": "https://localhost:8080/"
        },
        "id": "ntBxxnGuQZDr",
        "outputId": "4f5fd0cd-9b61-45cd-f2ea-1370916ef3de"
      },
      "execution_count": 16,
      "outputs": [
        {
          "output_type": "stream",
          "name": "stdout",
          "text": [
            "157/157 [==============================] - 15s 87ms/step - loss: 0.9305 - acc: 0.6710 - top5-acc: 0.9724\n",
            "40/40 [==============================] - 4s 62ms/step - loss: 1.1993 - acc: 0.5819 - top5-acc: 0.9482\n",
            "40/40 [==============================] - 4s 62ms/step - loss: 1.2170 - acc: 0.5808 - top5-acc: 0.9466\n"
          ]
        }
      ]
    },
    {
      "cell_type": "code",
      "execution_count": 17,
      "metadata": {
        "id": "YNou3wToZJXA"
      },
      "outputs": [],
      "source": [
        "with open(path+'/results.txt', 'w') as f:\n",
        "    for item in results:\n",
        "        f.write(\"{} loss={}, acc={}, top5-acc={} \\n\".format(item[0], item[1][0], item[1][1], item[1][2]))\n",
        "    f.close()"
      ]
    },
    {
      "cell_type": "code",
      "execution_count": 22,
      "metadata": {
        "id": "5DBFv-kMdZ9T"
      },
      "outputs": [],
      "source": [
        "%%capture cap --no-stderr\n",
        "display(model.summary())\n",
        "\n",
        "with open(path+'/summary.txt', 'w') as f:\n",
        "    f.write(cap.stdout)"
      ]
    },
    {
      "cell_type": "code",
      "execution_count": 19,
      "metadata": {
        "id": "voHmbeJ4_U7N",
        "colab": {
          "base_uri": "https://localhost:8080/",
          "height": 265
        },
        "outputId": "7ae5b5e5-0488-4cb1-91ba-fc4e14190c33"
      },
      "outputs": [
        {
          "output_type": "display_data",
          "data": {
            "image/png": "[encoded data removed]",
            "text/plain": [
              "<Figure size 432x288 with 1 Axes>"
            ]
          },
          "metadata": {
            "needs_background": "light"
          }
        }
      ],
      "source": [
        "import matplotlib.pyplot as plt\n",
        "\n",
        "plt.plot(history.history['val_loss'])\n",
        "plt.plot(history.history['loss'])\n",
        "plt.show()"
      ]
    },
    {
      "cell_type": "code",
      "source": [
        "zippath = path+'.zip'\n",
        "\n",
        "!zip -r \"$zippath\" \"$path\"\n",
        "\n",
        "# from google.colab import files\n",
        "# files.download(path+'.zip')"
      ],
      "metadata": {
        "colab": {
          "base_uri": "https://localhost:8080/"
        },
        "id": "XrXNGORxXrTA",
        "outputId": "36e186b8-b027-4e1f-f33d-379013b27c27"
      },
      "execution_count": 23,
      "outputs": [
        {
          "output_type": "stream",
          "name": "stdout",
          "text": [
            "updating: baseline/ (stored 0%)\n",
            "updating: baseline/summary.txt (deflated 79%)\n",
            "updating: baseline/my_model.h5 (deflated 8%)\n",
            "updating: baseline/history.npy (deflated 53%)\n",
            "updating: baseline/results.txt (deflated 42%)\n"
          ]
        }
      ]
    },
    {
      "cell_type": "code",
      "source": [
        "# import time\n",
        "# for i in range(100):\n",
        "#     print('Something to keep kernel alive')\n",
        "#     time.sleep(10)"
      ],
      "metadata": {
        "colab": {
          "base_uri": "https://localhost:8080/"
        },
        "id": "v7W318kR1Rhm",
        "outputId": "7f19ac6f-e826-46de-c88a-ebdcfba89dce"
      },
      "execution_count": null,
      "outputs": [
        {
          "output_type": "stream",
          "name": "stdout",
          "text": [
            "Something to keep kernel alive\n",
            "Something to keep kernel alive\n",
            "Something to keep kernel alive\n",
            "Something to keep kernel alive\n"
          ]
        }
      ]
    },
    {
      "cell_type": "code",
      "execution_count": null,
      "metadata": {
        "id": "-jQX-ZXZZUjc"
      },
      "outputs": [],
      "source": [
        "# with strategy.scope():\n",
        "#   model = Perceiver(num_freq_bands,\n",
        "#                     max_freq,\n",
        "#                     data_dim,\n",
        "#                     embedded_dim,\n",
        "#                     latent_dim,\n",
        "#                     projection_dim,\n",
        "#                     num_heads,\n",
        "#                     num_transformer_blocks,\n",
        "#                     num_iterations,\n",
        "#                     ffn_units,\n",
        "#                     classifier_units,\n",
        "#                     ffn_dropout_rate,\n",
        "#                     attn_dropout_rate,\n",
        "#   )\n",
        "#   model.compile(optimizer=tfa.optimizers.LAMB(learning_rate=learning_rate),\n",
        "#                 loss=tf.keras.losses.SparseCategoricalCrossentropy(from_logits=True),\n",
        "#                 metrics=[tf.keras.metrics.SparseCategoricalAccuracy(name=\"acc\"),\n",
        "#                           tf.keras.metrics.SparseTopKCategoricalAccuracy(5, name=\"top5-acc\")]\n",
        "#                 )\n",
        "  \n",
        "# model(np.zeros((1,1024,embedded_dim)))\n",
        "# model.load_weights('my_model.h5')\n",
        "# model.evaluate(testset)"
      ]
    }
  ],
  "metadata": {
    "accelerator": "TPU",
    "colab": {
      "collapsed_sections": [],
      "name": "Perceiver_non_weight_sharing.ipynb",
      "provenance": [],
      "include_colab_link": true
    },
    "kernelspec": {
      "display_name": "Python 3",
      "name": "python3"
    },
    "language_info": {
      "name": "python"
    }
  },
  "nbformat": 4,
  "nbformat_minor": 0
}
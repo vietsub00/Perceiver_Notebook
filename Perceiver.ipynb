{
  "nbformat": 4,
  "nbformat_minor": 0,
  "metadata": {
    "colab": {
      "name": "Perceiver_Self_Implementation.ipynb",
      "provenance": [],
      "collapsed_sections": [],
      "include_colab_link": true
    },
    "kernelspec": {
      "name": "python3",
      "display_name": "Python 3"
    },
    "language_info": {
      "name": "python"
    },
    "accelerator": "TPU"
  },
  "cells": [
    {
      "cell_type": "markdown",
      "metadata": {
        "id": "view-in-github",
        "colab_type": "text"
      },
      "source": [
        "<a href=\"https://colab.research.google.com/github/vietsub00/Perceiver_Notebook/blob/main/Perceiver.ipynb\" target=\"_parent\"><img src=\"https://colab.research.google.com/assets/colab-badge.svg\" alt=\"Open In Colab\"/></a>"
      ]
    },
    {
      "cell_type": "code",
      "metadata": {
        "colab": {
          "base_uri": "https://localhost:8080/"
        },
        "id": "NY7ht2vQOTKi",
        "outputId": "83aa9dbf-7d8f-4580-e3e5-51c4c4462c4e"
      },
      "source": [
        "!pip install tensorflow-addons\n",
        "!pip install einops"
      ],
      "execution_count": null,
      "outputs": [
        {
          "output_type": "stream",
          "name": "stdout",
          "text": [
            "Collecting tensorflow-addons\n",
            "  Downloading tensorflow_addons-0.15.0-cp37-cp37m-manylinux_2_12_x86_64.manylinux2010_x86_64.whl (1.1 MB)\n",
            "\u001b[K     |████████████████████████████████| 1.1 MB 5.5 MB/s \n",
            "\u001b[?25hRequirement already satisfied: typeguard>=2.7 in /usr/local/lib/python3.7/dist-packages (from tensorflow-addons) (2.7.1)\n",
            "Installing collected packages: tensorflow-addons\n",
            "Successfully installed tensorflow-addons-0.15.0\n",
            "Collecting einops\n",
            "  Downloading einops-0.3.2-py3-none-any.whl (25 kB)\n",
            "Installing collected packages: einops\n",
            "Successfully installed einops-0.3.2\n"
          ]
        }
      ]
    },
    {
      "cell_type": "code",
      "metadata": {
        "id": "_z8io-gQOgy4"
      },
      "source": [
        "import numpy as np\n",
        "from math import pi\n",
        "import tensorflow as tf\n",
        "from tensorflow import keras\n",
        "from tensorflow.keras import layers\n",
        "import tensorflow_addons as tfa\n",
        "from einops import rearrange, repeat"
      ],
      "execution_count": null,
      "outputs": []
    },
    {
      "cell_type": "code",
      "metadata": {
        "colab": {
          "base_uri": "https://localhost:8080/"
        },
        "id": "Nwmi0PZbgNol",
        "outputId": "13df2ec9-1763-4d7e-f64e-702b91d7ac3c"
      },
      "source": [
        "resolver = tf.distribute.cluster_resolver.TPUClusterResolver(tpu='')\n",
        "tf.config.experimental_connect_to_cluster(resolver)\n",
        "\n",
        "# This is the TPU initialization code that has to be at the beginning.\n",
        "tf.tpu.experimental.initialize_tpu_system(resolver)\n",
        "strategy = tf.distribute.TPUStrategy(resolver)"
      ],
      "execution_count": null,
      "outputs": [
        {
          "output_type": "stream",
          "name": "stdout",
          "text": [
            "INFO:tensorflow:Deallocate tpu buffers before initializing tpu system.\n"
          ]
        },
        {
          "output_type": "stream",
          "name": "stderr",
          "text": [
            "INFO:tensorflow:Deallocate tpu buffers before initializing tpu system.\n"
          ]
        },
        {
          "output_type": "stream",
          "name": "stdout",
          "text": [
            "INFO:tensorflow:Initializing the TPU system: grpc://10.100.76.114:8470\n"
          ]
        },
        {
          "output_type": "stream",
          "name": "stderr",
          "text": [
            "INFO:tensorflow:Initializing the TPU system: grpc://10.100.76.114:8470\n"
          ]
        },
        {
          "output_type": "stream",
          "name": "stdout",
          "text": [
            "INFO:tensorflow:Finished initializing TPU system.\n"
          ]
        },
        {
          "output_type": "stream",
          "name": "stderr",
          "text": [
            "INFO:tensorflow:Finished initializing TPU system.\n"
          ]
        },
        {
          "output_type": "stream",
          "name": "stdout",
          "text": [
            "INFO:tensorflow:Found TPU system:\n"
          ]
        },
        {
          "output_type": "stream",
          "name": "stderr",
          "text": [
            "INFO:tensorflow:Found TPU system:\n"
          ]
        },
        {
          "output_type": "stream",
          "name": "stdout",
          "text": [
            "INFO:tensorflow:*** Num TPU Cores: 8\n"
          ]
        },
        {
          "output_type": "stream",
          "name": "stderr",
          "text": [
            "INFO:tensorflow:*** Num TPU Cores: 8\n"
          ]
        },
        {
          "output_type": "stream",
          "name": "stdout",
          "text": [
            "INFO:tensorflow:*** Num TPU Workers: 1\n"
          ]
        },
        {
          "output_type": "stream",
          "name": "stderr",
          "text": [
            "INFO:tensorflow:*** Num TPU Workers: 1\n"
          ]
        },
        {
          "output_type": "stream",
          "name": "stdout",
          "text": [
            "INFO:tensorflow:*** Num TPU Cores Per Worker: 8\n"
          ]
        },
        {
          "output_type": "stream",
          "name": "stderr",
          "text": [
            "INFO:tensorflow:*** Num TPU Cores Per Worker: 8\n"
          ]
        },
        {
          "output_type": "stream",
          "name": "stdout",
          "text": [
            "INFO:tensorflow:*** Available Device: _DeviceAttributes(/job:localhost/replica:0/task:0/device:CPU:0, CPU, 0, 0)\n"
          ]
        },
        {
          "output_type": "stream",
          "name": "stderr",
          "text": [
            "INFO:tensorflow:*** Available Device: _DeviceAttributes(/job:localhost/replica:0/task:0/device:CPU:0, CPU, 0, 0)\n"
          ]
        },
        {
          "output_type": "stream",
          "name": "stdout",
          "text": [
            "INFO:tensorflow:*** Available Device: _DeviceAttributes(/job:worker/replica:0/task:0/device:CPU:0, CPU, 0, 0)\n"
          ]
        },
        {
          "output_type": "stream",
          "name": "stderr",
          "text": [
            "INFO:tensorflow:*** Available Device: _DeviceAttributes(/job:worker/replica:0/task:0/device:CPU:0, CPU, 0, 0)\n"
          ]
        },
        {
          "output_type": "stream",
          "name": "stdout",
          "text": [
            "INFO:tensorflow:*** Available Device: _DeviceAttributes(/job:worker/replica:0/task:0/device:TPU:0, TPU, 0, 0)\n"
          ]
        },
        {
          "output_type": "stream",
          "name": "stderr",
          "text": [
            "INFO:tensorflow:*** Available Device: _DeviceAttributes(/job:worker/replica:0/task:0/device:TPU:0, TPU, 0, 0)\n"
          ]
        },
        {
          "output_type": "stream",
          "name": "stdout",
          "text": [
            "INFO:tensorflow:*** Available Device: _DeviceAttributes(/job:worker/replica:0/task:0/device:TPU:1, TPU, 0, 0)\n"
          ]
        },
        {
          "output_type": "stream",
          "name": "stderr",
          "text": [
            "INFO:tensorflow:*** Available Device: _DeviceAttributes(/job:worker/replica:0/task:0/device:TPU:1, TPU, 0, 0)\n"
          ]
        },
        {
          "output_type": "stream",
          "name": "stdout",
          "text": [
            "INFO:tensorflow:*** Available Device: _DeviceAttributes(/job:worker/replica:0/task:0/device:TPU:2, TPU, 0, 0)\n"
          ]
        },
        {
          "output_type": "stream",
          "name": "stderr",
          "text": [
            "INFO:tensorflow:*** Available Device: _DeviceAttributes(/job:worker/replica:0/task:0/device:TPU:2, TPU, 0, 0)\n"
          ]
        },
        {
          "output_type": "stream",
          "name": "stdout",
          "text": [
            "INFO:tensorflow:*** Available Device: _DeviceAttributes(/job:worker/replica:0/task:0/device:TPU:3, TPU, 0, 0)\n"
          ]
        },
        {
          "output_type": "stream",
          "name": "stderr",
          "text": [
            "INFO:tensorflow:*** Available Device: _DeviceAttributes(/job:worker/replica:0/task:0/device:TPU:3, TPU, 0, 0)\n"
          ]
        },
        {
          "output_type": "stream",
          "name": "stdout",
          "text": [
            "INFO:tensorflow:*** Available Device: _DeviceAttributes(/job:worker/replica:0/task:0/device:TPU:4, TPU, 0, 0)\n"
          ]
        },
        {
          "output_type": "stream",
          "name": "stderr",
          "text": [
            "INFO:tensorflow:*** Available Device: _DeviceAttributes(/job:worker/replica:0/task:0/device:TPU:4, TPU, 0, 0)\n"
          ]
        },
        {
          "output_type": "stream",
          "name": "stdout",
          "text": [
            "INFO:tensorflow:*** Available Device: _DeviceAttributes(/job:worker/replica:0/task:0/device:TPU:5, TPU, 0, 0)\n"
          ]
        },
        {
          "output_type": "stream",
          "name": "stderr",
          "text": [
            "INFO:tensorflow:*** Available Device: _DeviceAttributes(/job:worker/replica:0/task:0/device:TPU:5, TPU, 0, 0)\n"
          ]
        },
        {
          "output_type": "stream",
          "name": "stdout",
          "text": [
            "INFO:tensorflow:*** Available Device: _DeviceAttributes(/job:worker/replica:0/task:0/device:TPU:6, TPU, 0, 0)\n"
          ]
        },
        {
          "output_type": "stream",
          "name": "stderr",
          "text": [
            "INFO:tensorflow:*** Available Device: _DeviceAttributes(/job:worker/replica:0/task:0/device:TPU:6, TPU, 0, 0)\n"
          ]
        },
        {
          "output_type": "stream",
          "name": "stdout",
          "text": [
            "INFO:tensorflow:*** Available Device: _DeviceAttributes(/job:worker/replica:0/task:0/device:TPU:7, TPU, 0, 0)\n"
          ]
        },
        {
          "output_type": "stream",
          "name": "stderr",
          "text": [
            "INFO:tensorflow:*** Available Device: _DeviceAttributes(/job:worker/replica:0/task:0/device:TPU:7, TPU, 0, 0)\n"
          ]
        },
        {
          "output_type": "stream",
          "name": "stdout",
          "text": [
            "INFO:tensorflow:*** Available Device: _DeviceAttributes(/job:worker/replica:0/task:0/device:TPU_SYSTEM:0, TPU_SYSTEM, 0, 0)\n"
          ]
        },
        {
          "output_type": "stream",
          "name": "stderr",
          "text": [
            "INFO:tensorflow:*** Available Device: _DeviceAttributes(/job:worker/replica:0/task:0/device:TPU_SYSTEM:0, TPU_SYSTEM, 0, 0)\n"
          ]
        },
        {
          "output_type": "stream",
          "name": "stdout",
          "text": [
            "INFO:tensorflow:*** Available Device: _DeviceAttributes(/job:worker/replica:0/task:0/device:XLA_CPU:0, XLA_CPU, 0, 0)\n"
          ]
        },
        {
          "output_type": "stream",
          "name": "stderr",
          "text": [
            "INFO:tensorflow:*** Available Device: _DeviceAttributes(/job:worker/replica:0/task:0/device:XLA_CPU:0, XLA_CPU, 0, 0)\n"
          ]
        }
      ]
    },
    {
      "cell_type": "markdown",
      "metadata": {
        "id": "oRkCTh6yYMtb"
      },
      "source": [
        "## Setup Hyperparameters:"
      ]
    },
    {
      "cell_type": "code",
      "metadata": {
        "id": "clCuATqhO4dS"
      },
      "source": [
        "learning_rate = 0.001\n",
        "weight_decay = 0.0001\n",
        "num_classes = 10\n",
        "img_size = 32\n",
        "data_dim = img_size**2\n",
        "num_freq_bands = 6          # number of freq bands, with original value (2 * K + 1)\n",
        "max_freq = 10.0             # maximum frequency, hyperparameter depending on how fine the data is\n",
        "batch_size = 64\n",
        "num_epochs = 150     \n",
        "ffn_dropout_rate = 0.0\n",
        "attn_dropout_rate = 0.0\n",
        "latent_dim = 256      # Size of the latent array.\n",
        "projection_dim = 29   # Embedding size of each element in the data and latent arrays.\n",
        "num_heads = 6         # Number of Transformer heads.\n",
        "ffn_units = [\n",
        "    projection_dim,\n",
        "    projection_dim,\n",
        "    ]                 # Size of the Transformer Feedforward network.\n",
        "num_transformer_blocks = 6\n",
        "num_iterations = 8    # Repetitions of the cross-attention and Transformer modules.\n",
        "classifier_units = [\n",
        "    projection_dim,\n",
        "    num_classes,\n",
        "]                      # Size of the Feedforward network of the final classifier."
      ],
      "execution_count": null,
      "outputs": []
    },
    {
      "cell_type": "markdown",
      "metadata": {
        "id": "GnImlwcGPi7o"
      },
      "source": [
        "## Load and preprocess the dataset:"
      ]
    },
    {
      "cell_type": "code",
      "metadata": {
        "colab": {
          "base_uri": "https://localhost:8080/"
        },
        "id": "kDY9XgJoOpSr",
        "outputId": "7ce49975-1908-4af5-e1e4-3c142aee988a"
      },
      "source": [
        "(x_train, y_train), (x_test, y_test) = keras.datasets.cifar10.load_data()\n",
        "\n",
        "print(f'x_train shape: {x_train.shape}, y_train shape: {y_train.shape}')\n",
        "print(f'x_train shape: {x_test.shape}, y_train shape: {y_test.shape}')\n",
        "\n",
        "x_train = x_train / 255\n",
        "x_test = x_test / 255"
      ],
      "execution_count": null,
      "outputs": [
        {
          "output_type": "stream",
          "name": "stdout",
          "text": [
            "Downloading data from https://www.cs.toronto.edu/~kriz/cifar-10-python.tar.gz\n",
            "170500096/170498071 [==============================] - 3s 0us/step\n",
            "170508288/170498071 [==============================] - 3s 0us/step\n",
            "x_train shape: (50000, 32, 32, 3), y_train shape: (50000, 1)\n",
            "x_train shape: (10000, 32, 32, 3), y_train shape: (10000, 1)\n"
          ]
        }
      ]
    },
    {
      "cell_type": "code",
      "source": [
        "def fourier_encode(x, max_freq, num_bands = 4):\n",
        "  x = tf.expand_dims(x, -1)\n",
        "  orig_x = x\n",
        "\n",
        "  scales = tf.linspace(1., max_freq / 2, num_bands)\n",
        "  scales = scales[(*((None,) * (len(x.shape) - 1)), Ellipsis)]\n",
        "\n",
        "  x = x * scales * pi\n",
        "  x = tf.concat([tf.sin(x), tf.cos(x)], axis = -1)\n",
        "  x = tf.concat((x, orig_x), axis = -1)\n",
        "  return x"
      ],
      "metadata": {
        "id": "zqjGQheZz633"
      },
      "execution_count": null,
      "outputs": []
    },
    {
      "cell_type": "code",
      "source": [
        "max_freq = 10.0\n",
        "num_freq_bands = 6\n",
        "\n",
        "b, *axis, _ = x_train.shape\n",
        "\n",
        "axis_pos = list(map(lambda size: tf.linspace(-1.0, 1.0, num = size), axis))\n",
        "pos = tf.stack(tf.meshgrid(*axis_pos, indexing = \"ij\"), axis = -1)\n",
        "enc_pos = fourier_encode(pos, max_freq, num_freq_bands)\n",
        "enc_pos = rearrange(enc_pos, \"... n d -> ... (n d)\")\n",
        "enc_pos = repeat(enc_pos, \"... -> b ...\", b = b)\n",
        "\n",
        "x_train = tf.concat((x_train, enc_pos), axis = -1)\n",
        "x_train = rearrange(x_train, \"b ... d -> b (...) d\")\n",
        "print(x_train.shape)"
      ],
      "metadata": {
        "id": "OZwFfzs-z-9U"
      },
      "execution_count": null,
      "outputs": []
    },
    {
      "cell_type": "markdown",
      "metadata": {
        "id": "sdDUF_Ebout2"
      },
      "source": [
        "## Helper Functions:"
      ]
    },
    {
      "cell_type": "code",
      "source": [
        "def feed_forward(hidden_units, activation='relu', use_bias=True, dropout_rate=0.0):\n",
        "    layers = []\n",
        "\n",
        "    for units in hidden_units[:-1]:\n",
        "        layers.append(layers.Dense(units, activation=activation, use_bias=use_bias))\n",
        "\n",
        "    layers.append(layers.Dense(units=hidden_units[-1], use_bias=use_bias))\n",
        "    layers.append(layers.Dropout(dropout_rate))\n",
        "\n",
        "    ffn = tf.keras.Sequential(layers)\n",
        "    return ffn"
      ],
      "metadata": {
        "id": "rp2m7Ik66UvX"
      },
      "execution_count": null,
      "outputs": []
    },
    {
      "cell_type": "markdown",
      "source": [
        "### Cross-attention module\n",
        "![image.png](data:image/png;base64,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)&nbsp;&nbsp;&nbsp;&nbsp;&nbsp;&nbsp;&nbsp;&nbsp;&nbsp;&nbsp;&nbsp;&nbsp;&nbsp;&nbsp;&nbsp;&nbsp;&nbsp;&nbsp;&nbsp;&nbsp;&nbsp;&nbsp;&nbsp;&nbsp;&nbsp;&nbsp;&nbsp;&nbsp;&nbsp;&nbsp;&nbsp;![image.png](data:image/png;base64,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)"
      ],
      "metadata": {
        "id": "OkIfC4arUhFN"
      }
    },
    {
      "cell_type": "code",
      "source": [
        "def cross_attention_module(latent_dim, \n",
        "                           data_dim, \n",
        "                           projection_dim, \n",
        "                           ffn_units, \n",
        "                           ffn_dropout_rate = 0,\n",
        "                           attn_dropout_rate = 0\n",
        "):\n",
        "    ''' According to the paper, the latent array has shape (N, D), which \n",
        "    corresponding to shape (latent_dim, projection_dim) in this function'''\n",
        "\n",
        "    inputs = {\n",
        "        # Recieve the latent array as an input of shape [1, latent_dim, projection_dim].\n",
        "        \"latent_array\": layers.Input(shape=(latent_dim, projection_dim)),\n",
        "        # Recieve the data_array (encoded image) as an input of shape [batch_size, data_dim, projection_dim].\n",
        "        \"data_array\": layers.Input(shape=(data_dim, projection_dim))\n",
        "    }\n",
        "\n",
        "    # Apply layer norm to the inputs\n",
        "    latent_array = layers.LayerNormalization(epsilon=1e-6)(inputs[\"latent_array\"])\n",
        "    data_array = layers.LayerNormalization(epsilon=1e-6)(inputs[\"data_array\"])\n",
        "\n",
        "    # Create query tensor: [1, latent_dim, projection_dim].\n",
        "    query = layers.Dense(units=projection_dim)(latent_array)\n",
        "    # Create key tensor: [batch_size, data_dim, projection_dim].\n",
        "    key = layers.Dense(units=projection_dim)(data_array)\n",
        "    # Create value tensor: [batch_size, data_dim, projection_dim].\n",
        "    value = layers.Dense(units=projection_dim)(data_array)\n",
        "\n",
        "    # Generate cross-attention outputs: [batch_size, latent_dim, projection_dim].\n",
        "    attn_output = layers.Attention(use_scale=True, dropout=attn_dropout_rate)(\n",
        "        [query, key, value], return_attention_scores=False\n",
        "    )\n",
        "    # Skip connection 1.\n",
        "    attn_output = layers.Add()([attn_output, latent_array])\n",
        "    # Apply layer norm.\n",
        "    attn_output = layers.LayerNormalization(epsilon=1e-6)(attn_output)\n",
        "    # Apply Feedforward network.\n",
        "    ffn_output = feed_forward(hidden_units=ffn_units, dropout_rate=ffn_dropout_rate)(attn_output)\n",
        "    # Skip connection 2.\n",
        "    ffn_output = layers.Add()([ffn_output, attn_output])\n",
        "    # Apply layer norm.\n",
        "    outputs = layers.LayerNormalization(epsilon=1e-6)(attn_output)\n",
        "\n",
        "    # Create the Keras model.\n",
        "    model = tf.keras.Model(inputs=inputs, outputs=outputs)\n",
        "    return model"
      ],
      "metadata": {
        "id": "qoU3jmu1_HCD"
      },
      "execution_count": null,
      "outputs": []
    },
    {
      "cell_type": "markdown",
      "source": [
        "### Latent Transformer module"
      ],
      "metadata": {
        "id": "e5UV8_UYSCJH"
      }
    },
    {
      "cell_type": "code",
      "source": [
        "def latent_transformer_module(latent_dim,\n",
        "                              projection_dim,\n",
        "                              num_heads,\n",
        "                              num_transformer_blocks,\n",
        "                              ffn_units,\n",
        "                              ffn_dropout_rate = 0,\n",
        "                              attn_dropout_rate = 0\n",
        "):\n",
        "\n",
        "    # input_shape: [1, latent_dim, projection_dim]\n",
        "    inputs = layers.Input(shape=(latent_dim, projection_dim))\n",
        "\n",
        "    x0 = inputs\n",
        "    # Create multiple layers of the Transformer block.\n",
        "    for _ in range(num_transformer_blocks):\n",
        "        # Apply layer normalization 1.\n",
        "        x1 = layers.LayerNormalization(epsilon=1e-6)(x0)\n",
        "        # Create a multi-head self-attention layer.\n",
        "        attn_output = layers.MultiHeadAttention(num_heads=num_heads, \n",
        "                                                key_dim=projection_dim, \n",
        "                                                dropout=attn_dropout_rate)(x1, x1)\n",
        "        # Skip connection 1.\n",
        "        x2 = layers.Add()([attn_output, x0])\n",
        "        # Apply layer normalization 2.\n",
        "        x3 = layers.LayerNormalization(epsilon=1e-6)(x2)\n",
        "        # Apply Feedforward network.\n",
        "        x3 = feed_forward(hidden_units=ffn_units, dropout_rate=ffn_dropout_rate)(x3)\n",
        "        # Skip connection 2.\n",
        "        x0 = layers.Add()([x3, x2])\n",
        "\n",
        "    # Create the Keras model.\n",
        "    model = tf.keras.Model(inputs=inputs, outputs=x0)\n",
        "    return model"
      ],
      "metadata": {
        "id": "8bl6Nwt0AE6N"
      },
      "execution_count": null,
      "outputs": []
    },
    {
      "cell_type": "markdown",
      "source": [
        "## Perceiver class"
      ],
      "metadata": {
        "id": "vTtzvxoSR_zM"
      }
    },
    {
      "cell_type": "code",
      "source": [
        "class Perceiver(tf.keras.Model):\n",
        "    def __init__(\n",
        "        self,\n",
        "        data_dim,\n",
        "        latent_dim,\n",
        "        projection_dim,\n",
        "        num_heads,\n",
        "        num_transformer_blocks,\n",
        "        ffn_units,\n",
        "        dropout_rate,\n",
        "        num_iterations,\n",
        "        classifier_units,\n",
        "    ):\n",
        "        super(Perceiver, self).__init__()\n",
        "\n",
        "        self.latent_dim = latent_dim\n",
        "        self.data_dim = data_dim\n",
        "        self.projection_dim = projection_dim\n",
        "        self.num_heads = num_heads\n",
        "        self.num_transformer_blocks = num_transformer_blocks\n",
        "        self.ffn_units = ffn_units\n",
        "        self.dropout_rate = dropout_rate\n",
        "        self.num_iterations = num_iterations\n",
        "        self.classifier_units = classifier_units\n",
        "\n",
        "    def build(self, input_shapes):\n",
        "        # Create latent array with shape [latent_dim, projection_dim], or (N, D) according to the paper\n",
        "        self.latent_array = self.add_weight(\n",
        "            shape=(self.latent_dim, self.projection_dim),\n",
        "            initializer=\"random_normal\", # we can change the initializer here\n",
        "            trainable=True,\n",
        "        )\n",
        "\n",
        "        # # Create patching module.\n",
        "        # self.patcher = Patches(self.patch_size)\n",
        "\n",
        "        # # Create patch encoder.\n",
        "        # self.patch_encoder = PatchEncoder(self.data_dim, self.projection_dim)\n",
        "\n",
        "        # Create cross-attenion module.\n",
        "        self.cross_attention = create_cross_attention_module(\n",
        "            self.latent_dim,\n",
        "            self.data_dim,\n",
        "            self.projection_dim,\n",
        "            self.ffn_units,\n",
        "            ffn_dropout_rate = self.dropout_rate,\n",
        "        )\n",
        "\n",
        "        # Create Transformer module.\n",
        "        self.transformer = create_transformer_module(\n",
        "            self.latent_dim,\n",
        "            self.projection_dim,\n",
        "            self.num_heads,\n",
        "            self.num_transformer_blocks,\n",
        "            self.ffn_units,\n",
        "            self.dropout_rate,\n",
        "        )\n",
        "\n",
        "        # Create global average pooling layer.\n",
        "        self.global_average_pooling = layers.GlobalAveragePooling1D()\n",
        "\n",
        "        # Create a classification head.\n",
        "        self.classification_head = create_ffn(\n",
        "            hidden_units=self.classifier_units, dropout_rate=self.dropout_rate\n",
        "        )\n",
        "\n",
        "        super(Perceiver, self).build(input_shapes)\n",
        "\n",
        "    def call(self, inputs):\n",
        "        # Prepare cross-attention inputs.\n",
        "        cross_attention_inputs = {\n",
        "            \"latent_array\": tf.expand_dims(self.latent_array, 0),\n",
        "            \"data_array\": inputs,\n",
        "        }\n",
        "        # Apply the cross-attention and the Transformer modules iteratively.\n",
        "        for _ in range(self.num_iterations):\n",
        "            print('interation:', _)\n",
        "            # Apply cross-attention from the latent array to the data array.\n",
        "            latent_array = self.cross_attention(cross_attention_inputs)\n",
        "            # Apply self-attention Transformer to the latent array.\n",
        "            latent_array = self.transformer(latent_array)\n",
        "            # Set the latent array of the next iteration.\n",
        "            cross_attention_inputs[\"latent_array\"] = latent_array\n",
        "\n",
        "        # Apply global average pooling to generate a [batch_size, projection_dim] repesentation tensor.\n",
        "        representation = self.global_average_pooling(latent_array)\n",
        "        # Generate logits.\n",
        "        logits = self.classification_head(representation)\n",
        "        return logits"
      ],
      "metadata": {
        "id": "yD_84sSkR80m"
      },
      "execution_count": null,
      "outputs": []
    },
    {
      "cell_type": "markdown",
      "source": [
        "## Create model:"
      ],
      "metadata": {
        "id": "YA1129BB0Zp6"
      }
    },
    {
      "cell_type": "code",
      "metadata": {
        "id": "tdmELRikPrJU"
      },
      "source": [
        "def create_model():\n",
        "  input = layers.Input(input_shape)\n",
        "  # x = layers.Dropout(0.3)(x)\n",
        "  #x = layers.Dense(512, activation='relu')(x)\n",
        "  # x = layers.Flatten()(x)\n",
        "  #x = layers.Dense(2048, activation='relu')(x)\n",
        "  # x = layers.Dense(1024, activation='relu')(x)\n",
        "  # x = layers.Dropout(0.5)(x)\n",
        "  # x = layers.Dense(512, activation='relu')(x)\n",
        "  # x = layers.Dropout(0.5)(x)\n",
        "  x = layers.Flatten()(x)\n",
        "  x = layers.Dense(256, activation='relu')(x)\n",
        "  x = layers.Dense(64, activation='relu')(x)\n",
        "  output = layers.Dense(num_classes, activation='softmax')(x)\n",
        "\n",
        "  model = keras.Model(input, output)\n",
        "\n",
        "  return model"
      ],
      "execution_count": null,
      "outputs": []
    },
    {
      "cell_type": "code",
      "metadata": {
        "id": "jD0uhabcT6Pj"
      },
      "source": [
        "with strategy.scope():\n",
        "  model = create_model()\n",
        "  model.compile(optimizer='Adam', \n",
        "                loss=keras.losses.SparseCategoricalCrossentropy(),\n",
        "                metrics=[keras.metrics.SparseCategoricalAccuracy(name='acc')])\n",
        "  model.summary()"
      ],
      "execution_count": null,
      "outputs": []
    },
    {
      "cell_type": "code",
      "metadata": {
        "id": "dXVezPvJMUXO"
      },
      "source": [
        "reduce_lr = keras.callbacks.ReduceLROnPlateau(monitor='val_loss', patience=4, factor=0.5)\n",
        "early_stopping = keras.callbacks.EarlyStopping(monitor='val_loss', patience=20, restore_best_weights=True)"
      ],
      "execution_count": null,
      "outputs": []
    },
    {
      "cell_type": "code",
      "metadata": {
        "id": "eCTwRYYDQIvf"
      },
      "source": [
        "with strategy.scope():\n",
        "  history = model.fit(x=data,\n",
        "                      y=y_train,\n",
        "                      batch_size=64,\n",
        "                      epochs=100, \n",
        "                      callbacks=[reduce_lr, early_stopping],\n",
        "                      validation_split=0.2\n",
        "                      )"
      ],
      "execution_count": null,
      "outputs": []
    },
    {
      "cell_type": "code",
      "metadata": {
        "id": "FhFTGJitA53L"
      },
      "source": [
        ""
      ],
      "execution_count": null,
      "outputs": []
    }
  ]
}